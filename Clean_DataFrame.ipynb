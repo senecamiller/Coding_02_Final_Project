{
  "nbformat": 4,
  "nbformat_minor": 0,
  "metadata": {
    "colab": {
      "provenance": [],
      "authorship_tag": "ABX9TyOC7AZqsgGt4IMG2B8RWEDN",
      "include_colab_link": true
    },
    "kernelspec": {
      "name": "python3",
      "display_name": "Python 3"
    },
    "language_info": {
      "name": "python"
    }
  },
  "cells": [
    {
      "cell_type": "markdown",
      "metadata": {
        "id": "view-in-github",
        "colab_type": "text"
      },
      "source": [
        "<a href=\"https://colab.research.google.com/github/senecamiller/Coding_02_Final_Project/blob/main/Cleaning_C2_Final_Project.ipynb\" target=\"_parent\"><img src=\"https://colab.research.google.com/assets/colab-badge.svg\" alt=\"Open In Colab\"/></a>"
      ]
    },
    {
      "cell_type": "markdown",
      "source": [
        "!!! DATA CLEANING !!!"
      ],
      "metadata": {
        "id": "tKH7LqyU4XSv"
      }
    },
    {
      "cell_type": "code",
      "source": [
        "from google.colab import files\n",
        "\n",
        "# Upload the file\n",
        "uploaded = files.upload()"
      ],
      "metadata": {
        "colab": {
          "base_uri": "https://localhost:8080/",
          "height": 74
        },
        "id": "7QM0Nm32QY4h",
        "outputId": "14240842-bf61-485b-d8bc-0903e8f151e8"
      },
      "execution_count": null,
      "outputs": [
        {
          "output_type": "display_data",
          "data": {
            "text/plain": [
              "<IPython.core.display.HTML object>"
            ],
            "text/html": [
              "\n",
              "     <input type=\"file\" id=\"files-c0c94698-6bae-4320-919a-5eaf7f065728\" name=\"files[]\" multiple disabled\n",
              "        style=\"border:none\" />\n",
              "     <output id=\"result-c0c94698-6bae-4320-919a-5eaf7f065728\">\n",
              "      Upload widget is only available when the cell has been executed in the\n",
              "      current browser session. Please rerun this cell to enable.\n",
              "      </output>\n",
              "      <script>// Copyright 2017 Google LLC\n",
              "//\n",
              "// Licensed under the Apache License, Version 2.0 (the \"License\");\n",
              "// you may not use this file except in compliance with the License.\n",
              "// You may obtain a copy of the License at\n",
              "//\n",
              "//      http://www.apache.org/licenses/LICENSE-2.0\n",
              "//\n",
              "// Unless required by applicable law or agreed to in writing, software\n",
              "// distributed under the License is distributed on an \"AS IS\" BASIS,\n",
              "// WITHOUT WARRANTIES OR CONDITIONS OF ANY KIND, either express or implied.\n",
              "// See the License for the specific language governing permissions and\n",
              "// limitations under the License.\n",
              "\n",
              "/**\n",
              " * @fileoverview Helpers for google.colab Python module.\n",
              " */\n",
              "(function(scope) {\n",
              "function span(text, styleAttributes = {}) {\n",
              "  const element = document.createElement('span');\n",
              "  element.textContent = text;\n",
              "  for (const key of Object.keys(styleAttributes)) {\n",
              "    element.style[key] = styleAttributes[key];\n",
              "  }\n",
              "  return element;\n",
              "}\n",
              "\n",
              "// Max number of bytes which will be uploaded at a time.\n",
              "const MAX_PAYLOAD_SIZE = 100 * 1024;\n",
              "\n",
              "function _uploadFiles(inputId, outputId) {\n",
              "  const steps = uploadFilesStep(inputId, outputId);\n",
              "  const outputElement = document.getElementById(outputId);\n",
              "  // Cache steps on the outputElement to make it available for the next call\n",
              "  // to uploadFilesContinue from Python.\n",
              "  outputElement.steps = steps;\n",
              "\n",
              "  return _uploadFilesContinue(outputId);\n",
              "}\n",
              "\n",
              "// This is roughly an async generator (not supported in the browser yet),\n",
              "// where there are multiple asynchronous steps and the Python side is going\n",
              "// to poll for completion of each step.\n",
              "// This uses a Promise to block the python side on completion of each step,\n",
              "// then passes the result of the previous step as the input to the next step.\n",
              "function _uploadFilesContinue(outputId) {\n",
              "  const outputElement = document.getElementById(outputId);\n",
              "  const steps = outputElement.steps;\n",
              "\n",
              "  const next = steps.next(outputElement.lastPromiseValue);\n",
              "  return Promise.resolve(next.value.promise).then((value) => {\n",
              "    // Cache the last promise value to make it available to the next\n",
              "    // step of the generator.\n",
              "    outputElement.lastPromiseValue = value;\n",
              "    return next.value.response;\n",
              "  });\n",
              "}\n",
              "\n",
              "/**\n",
              " * Generator function which is called between each async step of the upload\n",
              " * process.\n",
              " * @param {string} inputId Element ID of the input file picker element.\n",
              " * @param {string} outputId Element ID of the output display.\n",
              " * @return {!Iterable<!Object>} Iterable of next steps.\n",
              " */\n",
              "function* uploadFilesStep(inputId, outputId) {\n",
              "  const inputElement = document.getElementById(inputId);\n",
              "  inputElement.disabled = false;\n",
              "\n",
              "  const outputElement = document.getElementById(outputId);\n",
              "  outputElement.innerHTML = '';\n",
              "\n",
              "  const pickedPromise = new Promise((resolve) => {\n",
              "    inputElement.addEventListener('change', (e) => {\n",
              "      resolve(e.target.files);\n",
              "    });\n",
              "  });\n",
              "\n",
              "  const cancel = document.createElement('button');\n",
              "  inputElement.parentElement.appendChild(cancel);\n",
              "  cancel.textContent = 'Cancel upload';\n",
              "  const cancelPromise = new Promise((resolve) => {\n",
              "    cancel.onclick = () => {\n",
              "      resolve(null);\n",
              "    };\n",
              "  });\n",
              "\n",
              "  // Wait for the user to pick the files.\n",
              "  const files = yield {\n",
              "    promise: Promise.race([pickedPromise, cancelPromise]),\n",
              "    response: {\n",
              "      action: 'starting',\n",
              "    }\n",
              "  };\n",
              "\n",
              "  cancel.remove();\n",
              "\n",
              "  // Disable the input element since further picks are not allowed.\n",
              "  inputElement.disabled = true;\n",
              "\n",
              "  if (!files) {\n",
              "    return {\n",
              "      response: {\n",
              "        action: 'complete',\n",
              "      }\n",
              "    };\n",
              "  }\n",
              "\n",
              "  for (const file of files) {\n",
              "    const li = document.createElement('li');\n",
              "    li.append(span(file.name, {fontWeight: 'bold'}));\n",
              "    li.append(span(\n",
              "        `(${file.type || 'n/a'}) - ${file.size} bytes, ` +\n",
              "        `last modified: ${\n",
              "            file.lastModifiedDate ? file.lastModifiedDate.toLocaleDateString() :\n",
              "                                    'n/a'} - `));\n",
              "    const percent = span('0% done');\n",
              "    li.appendChild(percent);\n",
              "\n",
              "    outputElement.appendChild(li);\n",
              "\n",
              "    const fileDataPromise = new Promise((resolve) => {\n",
              "      const reader = new FileReader();\n",
              "      reader.onload = (e) => {\n",
              "        resolve(e.target.result);\n",
              "      };\n",
              "      reader.readAsArrayBuffer(file);\n",
              "    });\n",
              "    // Wait for the data to be ready.\n",
              "    let fileData = yield {\n",
              "      promise: fileDataPromise,\n",
              "      response: {\n",
              "        action: 'continue',\n",
              "      }\n",
              "    };\n",
              "\n",
              "    // Use a chunked sending to avoid message size limits. See b/62115660.\n",
              "    let position = 0;\n",
              "    do {\n",
              "      const length = Math.min(fileData.byteLength - position, MAX_PAYLOAD_SIZE);\n",
              "      const chunk = new Uint8Array(fileData, position, length);\n",
              "      position += length;\n",
              "\n",
              "      const base64 = btoa(String.fromCharCode.apply(null, chunk));\n",
              "      yield {\n",
              "        response: {\n",
              "          action: 'append',\n",
              "          file: file.name,\n",
              "          data: base64,\n",
              "        },\n",
              "      };\n",
              "\n",
              "      let percentDone = fileData.byteLength === 0 ?\n",
              "          100 :\n",
              "          Math.round((position / fileData.byteLength) * 100);\n",
              "      percent.textContent = `${percentDone}% done`;\n",
              "\n",
              "    } while (position < fileData.byteLength);\n",
              "  }\n",
              "\n",
              "  // All done.\n",
              "  yield {\n",
              "    response: {\n",
              "      action: 'complete',\n",
              "    }\n",
              "  };\n",
              "}\n",
              "\n",
              "scope.google = scope.google || {};\n",
              "scope.google.colab = scope.google.colab || {};\n",
              "scope.google.colab._files = {\n",
              "  _uploadFiles,\n",
              "  _uploadFilesContinue,\n",
              "};\n",
              "})(self);\n",
              "</script> "
            ]
          },
          "metadata": {}
        },
        {
          "output_type": "stream",
          "name": "stdout",
          "text": [
            "Saving final_df.csv to final_df.csv\n"
          ]
        }
      ]
    },
    {
      "cell_type": "code",
      "source": [
        "import pandas as pd\n",
        "\n",
        "# Load the uploaded file\n",
        "final_df = pd.read_csv('final_df.csv')\n",
        "print(final_df.head())"
      ],
      "metadata": {
        "colab": {
          "base_uri": "https://localhost:8080/"
        },
        "collapsed": true,
        "id": "eGM6Kq9HQYzP",
        "outputId": "1a79afeb-254a-4de8-bdb4-8f14ace59c5c"
      },
      "execution_count": null,
      "outputs": [
        {
          "output_type": "stream",
          "name": "stdout",
          "text": [
            "         price  Location  Year    TTAF Serial number            Registration  \\\n",
            "0  COMING SOON    Poland  2021    490h       24-0345    SP-WKX (EASA-Poland)   \n",
            "1    460 000 $    Poland  1974  15877h     172S10770    SP-THL (EASA-Poland)   \n",
            "2  COMING SOON    Poland  1978   4654h     F15001127    SP-KIZ (EASA-Poland)   \n",
            "3  COMING SOON  Portugal  1959   2830h     T20608855  SP-HAV (EASA - Poland)   \n",
            "4  419 000 â¬    Poland  1991   3392h          3630  SP-SZP (EASA - Poland)   \n",
            "\n",
            "                       Reason of sale  \\\n",
            "0  Other aviation project in progress   \n",
            "1  Other aviation project in progress   \n",
            "2  Other aviation project in progress   \n",
            "3  Other aviation project in progress   \n",
            "4  Other aviation project in progress   \n",
            "\n",
            "                       Owned by private person Availability  Type of flights  \\\n",
            "0  Owned by company - selling based on invoice  Immediately  Private Flights   \n",
            "1  Owned by company - selling based on invoice  Immediately  Private Flights   \n",
            "2                                          NaN  Immediately  Flight training   \n",
            "3                                          NaN  Immediately              NaN   \n",
            "4                                          NaN  Immediately  Private flights   \n",
            "\n",
            "   ... Additional factory equipment Engine equipment Avionics system  \\\n",
            "0  ...                          NaN              NaN             NaN   \n",
            "1  ...                          NaN              NaN             NaN   \n",
            "2  ...                          NaN              NaN             NaN   \n",
            "3  ...                          NaN              NaN             NaN   \n",
            "4  ...                          NaN              NaN             NaN   \n",
            "\n",
            "  Guardianavionics Lights VFR Night Instruments Engine model + HP  \\\n",
            "0              NaN    NaN       NaN         NaN               NaN   \n",
            "1              NaN    NaN       NaN         NaN               NaN   \n",
            "2              NaN    NaN       NaN         NaN               NaN   \n",
            "3              NaN    NaN       NaN         NaN               NaN   \n",
            "4              NaN    NaN       NaN         NaN               NaN   \n",
            "\n",
            "  Additional option Recovery system  \n",
            "0               NaN             NaN  \n",
            "1               NaN             NaN  \n",
            "2               NaN             NaN  \n",
            "3               NaN             NaN  \n",
            "4               NaN             NaN  \n",
            "\n",
            "[5 rows x 321 columns]\n"
          ]
        }
      ]
    },
    {
      "cell_type": "code",
      "source": [
        "# Keep the original DataFrame intact and create a cleaned version (copy)\n",
        "final_df_copy = final_df.copy()\n",
        "\n",
        "# Make Column Names Lowercase (easier to explore)\n",
        "final_df_copy.columns = final_df_copy.columns.str.lower()\n",
        "\n",
        "# Drop all columns that contain more than 100 null variables\n",
        "final_df_cleaned = final_df_copy.loc[:, final_df_copy.isna().sum() <= 100]"
      ],
      "metadata": {
        "id": "NK9xa7YRQYnE"
      },
      "execution_count": null,
      "outputs": []
    },
    {
      "cell_type": "code",
      "source": [
        "# Used final_df_cleaned['column-name'].unique() and final_df_cleaned['column-name'].nunique() to learn about the data\n",
        "# For more info I used some_list = list(final_df_cleaned['column-name']) then some_list.count('value-I-wanted-counted')\n",
        "\n",
        "# In 'price' category, change USD -> $ (for consistency, both are present) and â\\x82¬ -> € (website confirms the two are equal)\n",
        "final_df_cleaned.loc[:, 'price'] = final_df_cleaned['price'].replace(r'[^\\d.,]', '', regex=True)\n",
        "final_df_cleaned.loc[:, 'price'] = final_df_cleaned['price'].str.replace('USD', '$', regex=False).str.replace('â\\x82¬', '€', regex=False)\n",
        "final_df_cleaned.loc[:, 'price'] = pd.to_numeric(final_df_cleaned['price'], errors='coerce')\n",
        "\n",
        "# Convert similar column values in 'taxes' to same\n",
        "# many variations of \"Price + VAT (VAT rate depends on Buyer's status)\" -- ex: case insensitive\n",
        "final_df_cleaned.loc[:, 'taxes'] = final_df_cleaned['taxes'].apply(\n",
        "    lambda x: 'Price + VAT (VAT rate depends on Buyer\\'s status)'\n",
        "    if isinstance(x, str) and 'price + vat' in x.lower() and 'vat rate' in x.lower() else x\n",
        ")"
      ],
      "metadata": {
        "id": "aYpire-3QYkr"
      },
      "execution_count": null,
      "outputs": []
    },
    {
      "cell_type": "code",
      "source": [
        "# Clean 'visual condition' column to remove duplicate values (8//10 vs 8/10 and 9.5/10 vs 9,5/10) and remove /10 to make visualizations easier\n",
        "final_df_cleaned.loc[:, 'visual condition'] = final_df_cleaned['visual condition'].apply(\n",
        "    lambda x: '10' if isinstance(x, str) and '10/10' in x\n",
        "    else '9' if isinstance(x, str) and '9/10' in x\n",
        "    else '9.5' if isinstance(x, str) and '9,5' in x\n",
        "    else '8' if isinstance(x, str) and '8//10' in x\n",
        "    else x.replace('/10', '') if isinstance (x,str) and '/10' in x\n",
        "    else x\n",
        ")\n",
        "\n",
        "# Clean 'owner' into private owner vs. a company selling the plane\n",
        "final_df_cleaned.loc[:, 'owner'] = final_df_cleaned['owner'].apply(\n",
        "    lambda x: 'Private Owner' if isinstance(x, str) and ('owner' in x.lower() or 'person' in x.lower() or 'vat paid' in x.lower())\n",
        "    else 'Private Company' if isinstance(x, str) and ('company' in x.lower() or 'local aeroclub' in x.lower())\n",
        "    else x\n",
        ")\n",
        "\n",
        "# Remove row with year = '.' and ttaf = '.' (1 row each)\n",
        "final_df_cleaned = final_df_cleaned[final_df_cleaned['price'] != '.']\n",
        "final_df_cleaned = final_df_cleaned[final_df_cleaned['ttaf'] != '.']"
      ],
      "metadata": {
        "id": "fyHmHjM-QYiZ"
      },
      "execution_count": null,
      "outputs": []
    },
    {
      "cell_type": "code",
      "source": [
        "final_df_cleaned.to_csv('final_df_cleaned.csv',   index=False)"
      ],
      "metadata": {
        "id": "faKOiZUoQYf7"
      },
      "execution_count": null,
      "outputs": []
    },
    {
      "cell_type": "code",
      "source": [
        "from google.colab import files\n",
        "files.download('final_df_cleaned.csv')"
      ],
      "metadata": {
        "colab": {
          "base_uri": "https://localhost:8080/",
          "height": 17
        },
        "id": "QW1p2stwQYdF",
        "outputId": "258d4676-6415-4699-a251-6fb8d58c1983"
      },
      "execution_count": null,
      "outputs": [
        {
          "output_type": "display_data",
          "data": {
            "text/plain": [
              "<IPython.core.display.Javascript object>"
            ],
            "application/javascript": [
              "\n",
              "    async function download(id, filename, size) {\n",
              "      if (!google.colab.kernel.accessAllowed) {\n",
              "        return;\n",
              "      }\n",
              "      const div = document.createElement('div');\n",
              "      const label = document.createElement('label');\n",
              "      label.textContent = `Downloading \"${filename}\": `;\n",
              "      div.appendChild(label);\n",
              "      const progress = document.createElement('progress');\n",
              "      progress.max = size;\n",
              "      div.appendChild(progress);\n",
              "      document.body.appendChild(div);\n",
              "\n",
              "      const buffers = [];\n",
              "      let downloaded = 0;\n",
              "\n",
              "      const channel = await google.colab.kernel.comms.open(id);\n",
              "      // Send a message to notify the kernel that we're ready.\n",
              "      channel.send({})\n",
              "\n",
              "      for await (const message of channel.messages) {\n",
              "        // Send a message to notify the kernel that we're ready.\n",
              "        channel.send({})\n",
              "        if (message.buffers) {\n",
              "          for (const buffer of message.buffers) {\n",
              "            buffers.push(buffer);\n",
              "            downloaded += buffer.byteLength;\n",
              "            progress.value = downloaded;\n",
              "          }\n",
              "        }\n",
              "      }\n",
              "      const blob = new Blob(buffers, {type: 'application/binary'});\n",
              "      const a = document.createElement('a');\n",
              "      a.href = window.URL.createObjectURL(blob);\n",
              "      a.download = filename;\n",
              "      div.appendChild(a);\n",
              "      a.click();\n",
              "      div.remove();\n",
              "    }\n",
              "  "
            ]
          },
          "metadata": {}
        },
        {
          "output_type": "display_data",
          "data": {
            "text/plain": [
              "<IPython.core.display.Javascript object>"
            ],
            "application/javascript": [
              "download(\"download_a47744f8-03db-49d1-a095-cf195f6fb0c7\", \"final_df_cleaned.csv\", 66084)"
            ]
          },
          "metadata": {}
        }
      ]
    }
  ]
}
