{
  "nbformat": 4,
  "nbformat_minor": 0,
  "metadata": {
    "colab": {
      "provenance": [],
      "authorship_tag": "ABX9TyOXCHGUvDW97UTq26X7kulS",
      "include_colab_link": true
    },
    "kernelspec": {
      "name": "python3",
      "display_name": "Python 3"
    },
    "language_info": {
      "name": "python"
    }
  },
  "cells": [
    {
      "cell_type": "markdown",
      "metadata": {
        "id": "view-in-github",
        "colab_type": "text"
      },
      "source": [
        "<a href=\"https://colab.research.google.com/github/senecamiller/Coding_02_Final_Project/blob/main/final_df_portion.ipynb\" target=\"_parent\"><img src=\"https://colab.research.google.com/assets/colab-badge.svg\" alt=\"Open In Colab\"/></a>"
      ]
    },
    {
      "cell_type": "code",
      "execution_count": null,
      "metadata": {
        "id": "Gt4gX9mf8NIh",
        "collapsed": true
      },
      "outputs": [],
      "source": [
        "!pip install scrapethat"
      ]
    },
    {
      "cell_type": "code",
      "source": [
        "from scrapethat import *"
      ],
      "metadata": {
        "id": "r5vgTGUY8Nzx"
      },
      "execution_count": 16,
      "outputs": []
    },
    {
      "cell_type": "code",
      "source": [
        "import os\n",
        "import numpy as np\n",
        "import pandas as pd\n",
        "from tqdm import tqdm"
      ],
      "metadata": {
        "id": "s9H0NpVr8SbX"
      },
      "execution_count": 17,
      "outputs": []
    },
    {
      "cell_type": "code",
      "source": [
        "t = read_html('https://www.plane4you.eu/en/offers/single-engine')"
      ],
      "metadata": {
        "id": "hkuz0MEg8Ult"
      },
      "execution_count": 18,
      "outputs": []
    },
    {
      "cell_type": "code",
      "source": [
        "def get_links(url):\n",
        "    t = read_html(url)\n",
        "    flight_boxes = t.select('.featured-item')\n",
        "    links = [plane.select_one('a')['href'] for plane in flight_boxes]\n",
        "    return(links)"
      ],
      "metadata": {
        "id": "8pNgJG6i8XBO"
      },
      "execution_count": 19,
      "outputs": []
    },
    {
      "cell_type": "code",
      "source": [
        "def process_one_plane(link):\n",
        "    t = read_html(link)\n",
        "    info_rows = t.select('tr')\n",
        "    flight_data = {}\n",
        "    flight_data['price']= t.select_one('.up-content').select_one('span').text\n",
        "    for one_row in info_rows:\n",
        "        try:\n",
        "            key = one_row.select_one('.spec-term').text\n",
        "            value = one_row.select_one('.text-blue').text\n",
        "            flight_data[key]=value\n",
        "        except:\n",
        "            None\n",
        "    flight_data['url']=link\n",
        "    return(flight_data)"
      ],
      "metadata": {
        "id": "gUIGlwJM8lVj"
      },
      "execution_count": 20,
      "outputs": []
    },
    {
      "cell_type": "code",
      "source": [
        "main_pages=['https://www.plane4you.eu/en/offers/single-engine', 'https://www.plane4you.eu/en/offers/multi-engine', 'https://www.plane4you.eu/en/offers/helicopters', 'https://www.plane4you.eu/en/offers/jet-aircraft', 'https://www.plane4you.eu/en/offers/turboprops', 'https://www.plane4you.eu/en/offers/vintage-project-static', 'https://www.plane4you.eu/en/offers/ultralight-aircraft']\n",
        "all_links = [links for one_main_page in main_pages for links in get_links(one_main_page)]"
      ],
      "metadata": {
        "id": "V1UOHVYI8YnR"
      },
      "execution_count": 21,
      "outputs": []
    },
    {
      "cell_type": "code",
      "source": [
        "final_df = pd.DataFrame(list(map(process_one_plane, tqdm(all_links))))"
      ],
      "metadata": {
        "colab": {
          "base_uri": "https://localhost:8080/"
        },
        "id": "a-fSKz-b8o6P",
        "outputId": "2348dfea-1cae-4874-8f0b-229ad91b6ee2"
      },
      "execution_count": 22,
      "outputs": [
        {
          "output_type": "stream",
          "name": "stderr",
          "text": [
            "100%|██████████| 115/115 [02:39<00:00,  1.39s/it]\n"
          ]
        }
      ]
    },
    {
      "cell_type": "code",
      "source": [
        "final_df.to_csv('final_df.csv',   index=False)"
      ],
      "metadata": {
        "id": "w_9XjGSI8sTf"
      },
      "execution_count": 23,
      "outputs": []
    },
    {
      "cell_type": "code",
      "source": [
        "from google.colab import files\n",
        "files.download('final_df.csv')"
      ],
      "metadata": {
        "id": "5IlHNEBh8xQK",
        "outputId": "d08607f1-a72e-40f4-b7eb-4e4de8a8377c",
        "colab": {
          "base_uri": "https://localhost:8080/",
          "height": 17
        }
      },
      "execution_count": 24,
      "outputs": [
        {
          "output_type": "display_data",
          "data": {
            "text/plain": [
              "<IPython.core.display.Javascript object>"
            ],
            "application/javascript": [
              "\n",
              "    async function download(id, filename, size) {\n",
              "      if (!google.colab.kernel.accessAllowed) {\n",
              "        return;\n",
              "      }\n",
              "      const div = document.createElement('div');\n",
              "      const label = document.createElement('label');\n",
              "      label.textContent = `Downloading \"${filename}\": `;\n",
              "      div.appendChild(label);\n",
              "      const progress = document.createElement('progress');\n",
              "      progress.max = size;\n",
              "      div.appendChild(progress);\n",
              "      document.body.appendChild(div);\n",
              "\n",
              "      const buffers = [];\n",
              "      let downloaded = 0;\n",
              "\n",
              "      const channel = await google.colab.kernel.comms.open(id);\n",
              "      // Send a message to notify the kernel that we're ready.\n",
              "      channel.send({})\n",
              "\n",
              "      for await (const message of channel.messages) {\n",
              "        // Send a message to notify the kernel that we're ready.\n",
              "        channel.send({})\n",
              "        if (message.buffers) {\n",
              "          for (const buffer of message.buffers) {\n",
              "            buffers.push(buffer);\n",
              "            downloaded += buffer.byteLength;\n",
              "            progress.value = downloaded;\n",
              "          }\n",
              "        }\n",
              "      }\n",
              "      const blob = new Blob(buffers, {type: 'application/binary'});\n",
              "      const a = document.createElement('a');\n",
              "      a.href = window.URL.createObjectURL(blob);\n",
              "      a.download = filename;\n",
              "      div.appendChild(a);\n",
              "      a.click();\n",
              "      div.remove();\n",
              "    }\n",
              "  "
            ]
          },
          "metadata": {}
        },
        {
          "output_type": "display_data",
          "data": {
            "text/plain": [
              "<IPython.core.display.Javascript object>"
            ],
            "application/javascript": [
              "download(\"download_9a6e9e0a-1c6f-4a2e-a199-cc74c7bf9104\", \"final_df.csv\", 118946)"
            ]
          },
          "metadata": {}
        }
      ]
    },
    {
      "cell_type": "code",
      "source": [
        "#if os.path.exists('plane_data.csv'):\n",
        "#    final_df = pd.read_csv('plane_data.csv')\n",
        "#else:\n",
        "#    final_df = pd.DataFrame(list(map(process_one_plane, tqdm(all_links))))"
      ],
      "metadata": {
        "id": "_pO4mQUb81zA"
      },
      "execution_count": 25,
      "outputs": []
    },
    {
      "cell_type": "code",
      "source": [
        "#final_df"
      ],
      "metadata": {
        "id": "CA7MWrvb9moq"
      },
      "execution_count": 26,
      "outputs": []
    }
  ]
}