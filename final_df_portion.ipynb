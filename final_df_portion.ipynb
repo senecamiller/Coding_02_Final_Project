{
  "nbformat": 4,
  "nbformat_minor": 0,
  "metadata": {
    "colab": {
      "provenance": [],
      "authorship_tag": "ABX9TyPhyZagoaBM8wdSum3m4xmZ",
      "include_colab_link": true
    },
    "kernelspec": {
      "name": "python3",
      "display_name": "Python 3"
    },
    "language_info": {
      "name": "python"
    }
  },
  "cells": [
    {
      "cell_type": "markdown",
      "metadata": {
        "id": "view-in-github",
        "colab_type": "text"
      },
      "source": [
        "<a href=\"https://colab.research.google.com/github/senecamiller/Coding_02_Final_Project/blob/main/final_df_portion.ipynb\" target=\"_parent\"><img src=\"https://colab.research.google.com/assets/colab-badge.svg\" alt=\"Open In Colab\"/></a>"
      ]
    },
    {
      "cell_type": "code",
      "execution_count": null,
      "metadata": {
        "id": "Gt4gX9mf8NIh"
      },
      "outputs": [],
      "source": [
        "!pip install scrapethat"
      ]
    },
    {
      "cell_type": "code",
      "source": [
        "from scrapethat import *"
      ],
      "metadata": {
        "id": "r5vgTGUY8Nzx"
      },
      "execution_count": null,
      "outputs": []
    },
    {
      "cell_type": "code",
      "source": [
        "import os\n",
        "import numpy as np\n",
        "import pandas as pd\n",
        "from tqdm import tqdm"
      ],
      "metadata": {
        "id": "s9H0NpVr8SbX"
      },
      "execution_count": null,
      "outputs": []
    },
    {
      "cell_type": "code",
      "source": [
        "t = read_html('https://www.plane4you.eu/en/offers/single-engine')"
      ],
      "metadata": {
        "id": "hkuz0MEg8Ult"
      },
      "execution_count": null,
      "outputs": []
    },
    {
      "cell_type": "code",
      "source": [
        "def get_links(url):\n",
        "    t = read_html(url)\n",
        "    flight_boxes = t.select('.featured-item')\n",
        "    links = [plane.select_one('a')['href'] for plane in flight_boxes]\n",
        "    return(links)"
      ],
      "metadata": {
        "id": "8pNgJG6i8XBO"
      },
      "execution_count": null,
      "outputs": []
    },
    {
      "cell_type": "code",
      "source": [
        "def process_one_plane(link):\n",
        "    t = read_html(link)\n",
        "    info_rows = t.select('tr')\n",
        "    flight_data = {}\n",
        "    flight_data['price']= t.select_one('.up-content').select_one('span').text\n",
        "    for one_row in info_rows:\n",
        "        try:\n",
        "            key = one_row.select_one('.spec-term').text\n",
        "            value = one_row.select_one('.text-blue').text\n",
        "            flight_data[key]=value\n",
        "        except:\n",
        "            None\n",
        "    flight_data['url']=link\n",
        "    return(flight_data)"
      ],
      "metadata": {
        "id": "gUIGlwJM8lVj"
      },
      "execution_count": null,
      "outputs": []
    },
    {
      "cell_type": "code",
      "source": [
        "main_pages=['https://www.plane4you.eu/en/offers/single-engine', 'https://www.plane4you.eu/en/offers/multi-engine', 'https://www.plane4you.eu/en/offers/helicopters', 'https://www.plane4you.eu/en/offers/jet-aircraft', 'https://www.plane4you.eu/en/offers/turboprops', 'https://www.plane4you.eu/en/offers/vintage-project-static', 'https://www.plane4you.eu/en/offers/ultralight-aircraft']\n",
        "all_links = [links for one_main_page in main_pages for links in get_links(one_main_page)]"
      ],
      "metadata": {
        "id": "V1UOHVYI8YnR"
      },
      "execution_count": null,
      "outputs": []
    },
    {
      "cell_type": "code",
      "source": [
        "final_df = pd.DataFrame(list(map(process_one_plane, tqdm(all_links))))"
      ],
      "metadata": {
        "colab": {
          "base_uri": "https://localhost:8080/"
        },
        "id": "a-fSKz-b8o6P",
        "outputId": "76c07c4d-9551-4777-c60f-c2ba1f980d22"
      },
      "execution_count": null,
      "outputs": [
        {
          "output_type": "stream",
          "name": "stderr",
          "text": [
            "100%|██████████| 115/115 [03:11<00:00,  1.67s/it]\n"
          ]
        }
      ]
    },
    {
      "cell_type": "code",
      "source": [
        "final_df.to_csv('plane_data.csv',   index=False)"
      ],
      "metadata": {
        "id": "w_9XjGSI8sTf"
      },
      "execution_count": null,
      "outputs": []
    },
    {
      "cell_type": "code",
      "source": [
        "from google.colab import files\n",
        "files.download('plane_data.csv')"
      ],
      "metadata": {
        "id": "5IlHNEBh8xQK"
      },
      "execution_count": null,
      "outputs": []
    },
    {
      "cell_type": "code",
      "source": [
        "if os.path.exists('plane_data.csv'):\n",
        "    final_df = pd.read_csv('plane_data.csv')\n",
        "else:\n",
        "    final_df = pd.DataFrame(list(map(process_one_plane, tqdm(all_links))))"
      ],
      "metadata": {
        "id": "_pO4mQUb81zA"
      },
      "execution_count": null,
      "outputs": []
    },
    {
      "cell_type": "code",
      "source": [
        "final_df"
      ],
      "metadata": {
        "id": "CA7MWrvb9moq"
      },
      "execution_count": null,
      "outputs": []
    }
  ]
}